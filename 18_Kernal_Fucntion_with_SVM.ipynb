{
  "nbformat": 4,
  "nbformat_minor": 0,
  "metadata": {
    "colab": {
      "provenance": []
    },
    "kernelspec": {
      "name": "python3",
      "display_name": "Python 3"
    },
    "language_info": {
      "name": "python"
    }
  },
  "cells": [
    {
      "cell_type": "code",
      "execution_count": 1,
      "metadata": {
        "colab": {
          "base_uri": "https://localhost:8080/"
        },
        "id": "cEztOuYvebCV",
        "outputId": "f04e2ad6-7658-4a6c-ec9c-0694807bc777"
      },
      "outputs": [
        {
          "output_type": "stream",
          "name": "stdout",
          "text": [
            "Linear Kernel Accuracy: 0.8666666666666667\n",
            "Polynomial Kernel Accuracy: 0.9333333333333333\n",
            "RBF Kernel Accuracy: 0.9333333333333333\n",
            "Sigmoid Kernel Accuracy: 0.7333333333333333\n"
          ]
        }
      ],
      "source": [
        "from sklearn.svm import SVC\n",
        "from sklearn.datasets import make_classification\n",
        "from sklearn.model_selection import train_test_split\n",
        "from sklearn.metrics import accuracy_score\n",
        "\n",
        "# Generate synthetic data\n",
        "X, y = make_classification(n_samples=200, n_features=2, n_informative=2, n_redundant=0, n_clusters_per_class=1)\n",
        "\n",
        "# Split data into training and test sets\n",
        "X_train, X_test, y_train, y_test = train_test_split(X, y, test_size=0.3, random_state=42)\n",
        "\n",
        "# Linear Kernel\n",
        "clf_linear = SVC(kernel='linear')\n",
        "clf_linear.fit(X_train, y_train)\n",
        "y_pred_linear = clf_linear.predict(X_test)\n",
        "print(\"Linear Kernel Accuracy:\", accuracy_score(y_test, y_pred_linear))\n",
        "\n",
        "# Polynomial Kernel\n",
        "clf_poly = SVC(kernel='poly', degree=3, coef0=1)\n",
        "clf_poly.fit(X_train, y_train)\n",
        "y_pred_poly = clf_poly.predict(X_test)\n",
        "print(\"Polynomial Kernel Accuracy:\", accuracy_score(y_test, y_pred_poly))\n",
        "\n",
        "# RBF Kernel\n",
        "clf_rbf = SVC(kernel='rbf', gamma=1)\n",
        "clf_rbf.fit(X_train, y_train)\n",
        "y_pred_rbf = clf_rbf.predict(X_test)\n",
        "print(\"RBF Kernel Accuracy:\", accuracy_score(y_test, y_pred_rbf))\n",
        "\n",
        "# Sigmoid Kernel\n",
        "clf_sigmoid = SVC(kernel='sigmoid', gamma=1, coef0=0)\n",
        "clf_sigmoid.fit(X_train, y_train)\n",
        "y_pred_sigmoid = clf_sigmoid.predict(X_test)\n",
        "print(\"Sigmoid Kernel Accuracy:\", accuracy_score(y_test, y_pred_sigmoid))\n"
      ]
    },
    {
      "cell_type": "code",
      "source": [],
      "metadata": {
        "id": "o9lF7-ZdefQi"
      },
      "execution_count": null,
      "outputs": []
    }
  ]
}