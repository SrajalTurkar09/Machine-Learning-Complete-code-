{
  "nbformat": 4,
  "nbformat_minor": 0,
  "metadata": {
    "colab": {
      "provenance": []
    },
    "kernelspec": {
      "name": "python3",
      "display_name": "Python 3"
    },
    "language_info": {
      "name": "python"
    }
  },
  "cells": [
    {
      "cell_type": "markdown",
      "source": [
        "# AdaBoost from scratch"
      ],
      "metadata": {
        "id": "Cx0FGRVK2jxg"
      }
    },
    {
      "cell_type": "code",
      "execution_count": null,
      "metadata": {
        "id": "-HiHOGM3XoAd"
      },
      "outputs": [],
      "source": [
        "import numpy as np\n",
        "\n",
        "# Helper function to calculate the sign of the sum\n",
        "def sign(x):\n",
        "    return np.where(x >= 0, 1, -1)\n",
        "\n",
        "# Decision stump as a weak classifier\n",
        "class DecisionStump:\n",
        "    def __init__(self):\n",
        "        self.polarity = 1\n",
        "        self.feature_index = None\n",
        "        self.threshold = None\n",
        "        self.alpha = None\n",
        "\n",
        "    def predict(self, X):\n",
        "        n_samples = X.shape[0]\n",
        "        X_column = X[:, self.feature_index]\n",
        "        predictions = np.ones(n_samples)\n",
        "        if self.polarity == 1:\n",
        "            predictions[X_column < self.threshold] = -1\n",
        "        else:\n",
        "            predictions[X_column > self.threshold] = -1\n",
        "        return predictions\n",
        "\n",
        "    def fit(self, X, y, weights):\n",
        "        n_samples, n_features = X.shape\n",
        "        min_error = float('inf')\n",
        "\n",
        "        for feature_i in range(n_features):\n",
        "            X_column = X[:, feature_i]\n",
        "            thresholds = np.unique(X_column)\n",
        "            for threshold in thresholds:\n",
        "                for polarity in [1, -1]:\n",
        "                    predictions = np.ones(n_samples)\n",
        "                    if polarity == 1:\n",
        "                        predictions[X_column < threshold] = -1\n",
        "                    else:\n",
        "                        predictions[X_column > threshold] = -1\n",
        "\n",
        "                    error = sum(weights[y != predictions])\n",
        "\n",
        "                    if error < min_error:\n",
        "                        self.polarity = polarity\n",
        "                        self.threshold = threshold\n",
        "                        self.feature_index = feature_i\n",
        "                        min_error = error\n",
        "\n",
        "        self.alpha = 0.5 * np.log((1 - min_error) / (min_error + 1e-10))\n",
        "\n"
      ]
    },
    {
      "cell_type": "code",
      "source": [
        "class AdaBoost:\n",
        "    def __init__(self, n_classifiers=5):\n",
        "        self.n_classifiers = n_classifiers\n",
        "        self.classifiers = []\n",
        "\n",
        "    def fit(self, X, y):\n",
        "        n_samples, n_features = X.shape\n",
        "\n",
        "        # Initialize weights\n",
        "        weights = np.full(n_samples, (1 / n_samples))\n",
        "\n",
        "        # Convert labels to {-1, 1}\n",
        "        y = np.where(y == 0, -1, 1)\n",
        "\n",
        "        for _ in range(self.n_classifiers):\n",
        "            classifier = DecisionStump()\n",
        "            classifier.fit(X, y, weights)\n",
        "\n",
        "            predictions = classifier.predict(X)\n",
        "            incorrect = (predictions != y)\n",
        "\n",
        "            weights *= np.exp(classifier.alpha * incorrect * 2)\n",
        "            weights /= np.sum(weights)\n",
        "\n",
        "            self.classifiers.append(classifier)\n",
        "\n",
        "    def predict(self, X):\n",
        "        classifier_preds = [classifier.alpha * classifier.predict(X) for classifier in self.classifiers]\n",
        "        y_pred = np.sum(classifier_preds, axis=0)\n",
        "        return sign(y_pred)\n"
      ],
      "metadata": {
        "id": "-6846wuSXvoM"
      },
      "execution_count": null,
      "outputs": []
    },
    {
      "cell_type": "code",
      "source": [
        "# Toy dataset\n",
        "X = np.array([[1, 2], [2, 3], [3, 4], [4, 5], [5, 6]])\n",
        "y = np.array([0, 0, 1, 1, 1])\n",
        "\n",
        "# Instantiate and fit AdaBoost model\n",
        "ada = AdaBoost(n_classifiers=5)\n",
        "ada.fit(X, y)\n",
        "\n",
        "# Predicting\n",
        "y_pred = ada.predict(X)\n",
        "\n",
        "print(\"Predictions:\", y_pred)\n"
      ],
      "metadata": {
        "colab": {
          "base_uri": "https://localhost:8080/"
        },
        "id": "5xSloE5UYDOr",
        "outputId": "b0daf993-1c5d-4a17-e5ea-4e029982761e"
      },
      "execution_count": null,
      "outputs": [
        {
          "output_type": "stream",
          "name": "stdout",
          "text": [
            "Predictions: [-1 -1  1  1  1]\n"
          ]
        }
      ]
    },
    {
      "cell_type": "markdown",
      "source": [
        "# Adaboost from sklearn"
      ],
      "metadata": {
        "id": "luUv9y_X2q60"
      }
    },
    {
      "cell_type": "code",
      "source": [
        "from sklearn.ensemble import AdaBoostClassifier\n",
        "from sklearn.tree import DecisionTreeClassifier\n",
        "from sklearn.datasets import make_classification\n",
        "from sklearn.model_selection import train_test_split\n",
        "from sklearn.metrics import accuracy_score\n"
      ],
      "metadata": {
        "id": "37GGkIsBYGNz"
      },
      "execution_count": null,
      "outputs": []
    },
    {
      "cell_type": "markdown",
      "source": [],
      "metadata": {
        "id": "rYrBY4Tx2v2Z"
      }
    },
    {
      "cell_type": "code",
      "source": [
        "# Generate a synthetic dataset\n",
        "X, y = make_classification(n_samples=100, n_features=20, n_informative=2, n_redundant=10, random_state=42)\n",
        "\n",
        "# Split into training and testing data\n",
        "X_train, X_test, y_train, y_test = train_test_split(X, y, test_size=0.3, random_state=42)\n",
        "\n",
        "# Initialize AdaBoost with a decision tree as the base estimator\n",
        "base_estimator = DecisionTreeClassifier(max_depth=1)\n",
        "ada_boost = AdaBoostClassifier(base_estimator=base_estimator, n_estimators=50, learning_rate=1.0, random_state=42)\n",
        "\n",
        "# Train AdaBoost model\n",
        "ada_boost.fit(X_train, y_train)\n",
        "\n",
        "# Predict\n",
        "y_pred = ada_boost.predict(X_test)\n",
        "\n",
        "# Evaluate model performance\n",
        "accuracy = accuracy_score(y_test, y_pred)\n",
        "print(\"Accuracy:\", accuracy)\n",
        "\n",
        "# predict\n",
        "y_pred = ada_boost.predict(X_test)\n",
        "print(\"Predictions:\", y_pred)\n"
      ],
      "metadata": {
        "colab": {
          "base_uri": "https://localhost:8080/"
        },
        "id": "euvNDuLnYLDz",
        "outputId": "5d99e1e4-7d1b-4781-b540-323b2fbaa7a0"
      },
      "execution_count": null,
      "outputs": [
        {
          "output_type": "stream",
          "name": "stdout",
          "text": [
            "Accuracy: 0.9666666666666667\n",
            "Predictions: [1 1 0 0 0 0 1 1 1 1 1 1 0 1 1 0 0 0 1 0 0 1 1 0 0 0 0 1 0 1]\n"
          ]
        },
        {
          "output_type": "stream",
          "name": "stderr",
          "text": [
            "/usr/local/lib/python3.10/dist-packages/sklearn/ensemble/_base.py:156: FutureWarning: `base_estimator` was renamed to `estimator` in version 1.2 and will be removed in 1.4.\n",
            "  warnings.warn(\n"
          ]
        }
      ]
    },
    {
      "cell_type": "code",
      "source": [
        "# make an dataset about student pass or fail based on their marks\n",
        "\n",
        "marks = np.array([[10, 20], [20, 30], [30, 40], [40, 50], [50, 60]])\n",
        "\n",
        "y = np.array([1, 1, 0, 0, 1])\n",
        "\n",
        "# Instantiate and fit AdaBoost model\n",
        "ada = AdaBoost(n_classifiers=5)\n",
        "ada.fit(marks, y)\n",
        "\n",
        "# Predicting\n",
        "y_pred = ada.predict(marks)\n",
        "\n",
        "print(\"Predictions:\", y_pred)"
      ],
      "metadata": {
        "colab": {
          "base_uri": "https://localhost:8080/"
        },
        "id": "I74AZb3bYP41",
        "outputId": "ec4ba021-07cb-44cf-e675-84c4c5b100f7"
      },
      "execution_count": null,
      "outputs": [
        {
          "output_type": "stream",
          "name": "stdout",
          "text": [
            "Predictions: [ 1  1 -1 -1  1]\n"
          ]
        }
      ]
    },
    {
      "cell_type": "code",
      "source": [],
      "metadata": {
        "id": "12ecjOFDYjhn"
      },
      "execution_count": null,
      "outputs": []
    },
    {
      "cell_type": "markdown",
      "source": [
        "# Adaboost Varients\n",
        "  1. SAMME\n",
        "  2. SAMME.R"
      ],
      "metadata": {
        "id": "kSL-91ru2zQ2"
      }
    },
    {
      "cell_type": "code",
      "source": [
        "# 1. Adaboost SAMME\n",
        "from sklearn.ensemble import AdaBoostClassifier\n",
        "from sklearn.tree import DecisionTreeClassifier\n",
        "from sklearn.datasets import load_iris\n",
        "from sklearn.model_selection import train_test_split\n",
        "from sklearn.metrics import accuracy_score\n",
        "\n",
        "# Load the iris dataset\n",
        "data = load_iris()\n",
        "X = data.data\n",
        "y = data.target\n",
        "\n",
        "# Split the data into training and testing sets\n",
        "X_train, X_test, y_train, y_test = train_test_split(X, y, test_size=0.3, random_state=42)\n",
        "\n",
        "# Define the base estimator (a simple decision tree)\n",
        "base_estimator = DecisionTreeClassifier(max_depth=1)\n",
        "\n",
        "# Create the AdaBoost SAMME classifier\n",
        "ada_samme = AdaBoostClassifier(base_estimator=base_estimator, n_estimators=50, algorithm=\"SAMME\") # Here we use SAMME instead of SAMME\n",
        "\n",
        "# Train the classifier\n",
        "ada_samme.fit(X_train, y_train)\n",
        "\n",
        "# Make predictions\n",
        "y_pred = ada_samme.predict(X_test)\n",
        "\n",
        "# Evaluate the accuracy\n",
        "accuracy = accuracy_score(y_test, y_pred)\n",
        "print(f\"AdaBoost SAMME Accuracy: {accuracy:.2f}\")\n"
      ],
      "metadata": {
        "colab": {
          "base_uri": "https://localhost:8080/"
        },
        "id": "NQ6yqZBe2-f8",
        "outputId": "7aaeef80-2401-432a-ba23-60b249a6fcf1"
      },
      "execution_count": null,
      "outputs": [
        {
          "output_type": "stream",
          "name": "stderr",
          "text": [
            "/usr/local/lib/python3.10/dist-packages/sklearn/ensemble/_base.py:156: FutureWarning: `base_estimator` was renamed to `estimator` in version 1.2 and will be removed in 1.4.\n",
            "  warnings.warn(\n"
          ]
        },
        {
          "output_type": "stream",
          "name": "stdout",
          "text": [
            "AdaBoost SAMME Accuracy: 1.00\n"
          ]
        }
      ]
    },
    {
      "cell_type": "code",
      "source": [
        "# Create the AdaBoost SAMME.R classifier\n",
        "ada_samme_r = AdaBoostClassifier(base_estimator=base_estimator, n_estimators=50, algorithm=\"SAMME.R\")\n",
        "\n",
        "# Train the classifier\n",
        "ada_samme_r.fit(X_train, y_train)\n",
        "\n",
        "# Make predictions\n",
        "y_pred_r = ada_samme_r.predict(X_test)\n",
        "\n",
        "# Evaluate the accuracy\n",
        "accuracy_r = accuracy_score(y_test, y_pred_r)\n",
        "print(f\"AdaBoost SAMME.R Accuracy: {accuracy_r:.2f}\")\n"
      ],
      "metadata": {
        "colab": {
          "base_uri": "https://localhost:8080/"
        },
        "id": "u9XGqPQx3IgK",
        "outputId": "3355283a-e4dc-4bba-e66f-938ad526ca98"
      },
      "execution_count": null,
      "outputs": [
        {
          "output_type": "stream",
          "name": "stdout",
          "text": [
            "AdaBoost SAMME.R Accuracy: 1.00\n"
          ]
        },
        {
          "output_type": "stream",
          "name": "stderr",
          "text": [
            "/usr/local/lib/python3.10/dist-packages/sklearn/ensemble/_base.py:156: FutureWarning: `base_estimator` was renamed to `estimator` in version 1.2 and will be removed in 1.4.\n",
            "  warnings.warn(\n"
          ]
        }
      ]
    },
    {
      "cell_type": "code",
      "source": [
        "print(f\"AdaBoost SAMME Accuracy: {accuracy:.2f}\")\n",
        "print(f\"AdaBoost SAMME.R Accuracy: {accuracy_r:.2f}\")\n"
      ],
      "metadata": {
        "colab": {
          "base_uri": "https://localhost:8080/"
        },
        "id": "JG3gdRlg3L1A",
        "outputId": "d4bd8c16-be18-43df-e3e1-655988de67a4"
      },
      "execution_count": null,
      "outputs": [
        {
          "output_type": "stream",
          "name": "stdout",
          "text": [
            "AdaBoost SAMME Accuracy: 1.00\n",
            "AdaBoost SAMME.R Accuracy: 1.00\n"
          ]
        }
      ]
    },
    {
      "cell_type": "markdown",
      "source": [
        "# Handeling Overfitting"
      ],
      "metadata": {
        "id": "OGzqo_3eqowQ"
      }
    },
    {
      "cell_type": "code",
      "source": [
        "# 1. Regularization Techhniques\n",
        "\n",
        "    # Base Learner pruning\n",
        "    # Early stopping\n",
        "\n",
        "# code :-\n",
        "\n",
        "# Base Learner Pruning\n",
        "from sklearn.ensemble import AdaBoostClassifier\n",
        "from sklearn.tree import DecisionTreeClassifier\n",
        "from sklearn.datasets import make_classification\n",
        "from sklearn.model_selection import train_test_split\n",
        "\n",
        "# Create a synthetic dataset\n",
        "X, y = make_classification(n_samples=1000, n_features=20, random_state=42)\n",
        "\n",
        "# Split into training and test sets\n",
        "X_train, X_test, y_train, y_test = train_test_split(X, y, test_size=0.3, random_state=42)\n",
        "\n",
        "# Base estimator with pruning (limiting max depth and min samples split)\n",
        "base_estimator = DecisionTreeClassifier(max_depth=2, min_samples_split=10)\n",
        "\n",
        "# AdaBoost with the pruned base estimator\n",
        "ada = AdaBoostClassifier(base_estimator=base_estimator, n_estimators=100, learning_rate=1.0, random_state=42)\n",
        "\n",
        "# Train the model\n",
        "ada.fit(X_train, y_train)\n",
        "\n",
        "# Evaluate on the test set\n",
        "test_score = ada.score(X_test, y_test)\n",
        "print(f\"Test Score: {test_score:.2f}\")\n"
      ],
      "metadata": {
        "colab": {
          "base_uri": "https://localhost:8080/"
        },
        "id": "vJhhdFRL3Ndb",
        "outputId": "31071e86-db40-4e65-c563-7af325179d6b"
      },
      "execution_count": null,
      "outputs": [
        {
          "output_type": "stream",
          "name": "stderr",
          "text": [
            "/usr/local/lib/python3.10/dist-packages/sklearn/ensemble/_base.py:156: FutureWarning: `base_estimator` was renamed to `estimator` in version 1.2 and will be removed in 1.4.\n",
            "  warnings.warn(\n"
          ]
        },
        {
          "output_type": "stream",
          "name": "stdout",
          "text": [
            "Test Score: 0.85\n"
          ]
        }
      ]
    },
    {
      "cell_type": "code",
      "source": [
        "# Early stopping\n",
        "from sklearn.ensemble import AdaBoostClassifier\n",
        "from sklearn.tree import DecisionTreeClassifier\n",
        "from sklearn.datasets import make_classification\n",
        "from sklearn.model_selection import train_test_split\n",
        "from sklearn.metrics import accuracy_score\n",
        "\n",
        "# Create a synthetic dataset\n",
        "X, y = make_classification(n_samples=1000, n_features=20, random_state=42)\n",
        "\n",
        "# Split into training, validation, and test sets\n",
        "X_train, X_temp, y_train, y_temp = train_test_split(X, y, test_size=0.4, random_state=42)\n",
        "X_val, X_test, y_val, y_test = train_test_split(X_temp, y_temp, test_size=0.5, random_state=42)\n",
        "\n",
        "# Base estimator\n",
        "base_estimator = DecisionTreeClassifier(max_depth=1)\n",
        "\n",
        "# AdaBoost with manual early stopping\n",
        "best_score = 0\n",
        "early_stopping_rounds = 10\n",
        "no_improvement_count = 0\n",
        "n_estimators = 200\n",
        "learning_rate = 1.0\n",
        "\n",
        "for i in range(1, n_estimators + 1):\n",
        "    # Initialize AdaBoost with the current number of estimators\n",
        "    ada = AdaBoostClassifier(base_estimator=base_estimator, n_estimators=i, learning_rate=learning_rate, random_state=42)\n",
        "\n",
        "    # Train the model\n",
        "    ada.fit(X_train, y_train)\n",
        "\n",
        "    # Evaluate on the validation set\n",
        "    val_score = accuracy_score(y_val, ada.predict(X_val))\n",
        "    print(f\"Round {i}, Validation Score: {val_score:.4f}\")\n",
        "\n",
        "    # Check for improvement\n",
        "    if val_score > best_score:\n",
        "        best_score = val_score\n",
        "        no_improvement_count = 0\n",
        "        best_model = ada  # Save the best model\n",
        "    else:\n",
        "        no_improvement_count += 1\n",
        "\n",
        "    # Stop if no improvement for `early_stopping_rounds` rounds\n",
        "    if no_improvement_count >= early_stopping_rounds:\n",
        "        print(f\"Early stopping after {i} rounds.\")\n",
        "        break\n",
        "\n",
        "# Evaluate the best model on the test set\n",
        "test_score = accuracy_score(y_test, best_model.predict(X_test))\n",
        "print(f\"Test Score with Early Stopping: {test_score:.4f}\")\n"
      ],
      "metadata": {
        "colab": {
          "base_uri": "https://localhost:8080/"
        },
        "id": "hLtx6zprrcVm",
        "outputId": "2ad4b2a6-d696-44c6-fe8a-b5754fd4d55e"
      },
      "execution_count": null,
      "outputs": [
        {
          "output_type": "stream",
          "name": "stdout",
          "text": [
            "Round 1, Validation Score: 0.8350\n",
            "Round 2, Validation Score: 0.8350\n",
            "Round 3, Validation Score: 0.8350\n",
            "Round 4, Validation Score: 0.8350\n"
          ]
        },
        {
          "output_type": "stream",
          "name": "stderr",
          "text": [
            "/usr/local/lib/python3.10/dist-packages/sklearn/ensemble/_base.py:156: FutureWarning: `base_estimator` was renamed to `estimator` in version 1.2 and will be removed in 1.4.\n",
            "  warnings.warn(\n",
            "/usr/local/lib/python3.10/dist-packages/sklearn/ensemble/_base.py:156: FutureWarning: `base_estimator` was renamed to `estimator` in version 1.2 and will be removed in 1.4.\n",
            "  warnings.warn(\n",
            "/usr/local/lib/python3.10/dist-packages/sklearn/ensemble/_base.py:156: FutureWarning: `base_estimator` was renamed to `estimator` in version 1.2 and will be removed in 1.4.\n",
            "  warnings.warn(\n",
            "/usr/local/lib/python3.10/dist-packages/sklearn/ensemble/_base.py:156: FutureWarning: `base_estimator` was renamed to `estimator` in version 1.2 and will be removed in 1.4.\n",
            "  warnings.warn(\n",
            "/usr/local/lib/python3.10/dist-packages/sklearn/ensemble/_base.py:156: FutureWarning: `base_estimator` was renamed to `estimator` in version 1.2 and will be removed in 1.4.\n",
            "  warnings.warn(\n",
            "/usr/local/lib/python3.10/dist-packages/sklearn/ensemble/_base.py:156: FutureWarning: `base_estimator` was renamed to `estimator` in version 1.2 and will be removed in 1.4.\n",
            "  warnings.warn(\n"
          ]
        },
        {
          "output_type": "stream",
          "name": "stdout",
          "text": [
            "Round 5, Validation Score: 0.8350\n",
            "Round 6, Validation Score: 0.8350\n",
            "Round 7, Validation Score: 0.8350\n",
            "Round 8, Validation Score: 0.8450\n"
          ]
        },
        {
          "output_type": "stream",
          "name": "stderr",
          "text": [
            "/usr/local/lib/python3.10/dist-packages/sklearn/ensemble/_base.py:156: FutureWarning: `base_estimator` was renamed to `estimator` in version 1.2 and will be removed in 1.4.\n",
            "  warnings.warn(\n",
            "/usr/local/lib/python3.10/dist-packages/sklearn/ensemble/_base.py:156: FutureWarning: `base_estimator` was renamed to `estimator` in version 1.2 and will be removed in 1.4.\n",
            "  warnings.warn(\n",
            "/usr/local/lib/python3.10/dist-packages/sklearn/ensemble/_base.py:156: FutureWarning: `base_estimator` was renamed to `estimator` in version 1.2 and will be removed in 1.4.\n",
            "  warnings.warn(\n"
          ]
        },
        {
          "output_type": "stream",
          "name": "stdout",
          "text": [
            "Round 9, Validation Score: 0.8400\n",
            "Round 10, Validation Score: 0.8400\n"
          ]
        },
        {
          "output_type": "stream",
          "name": "stderr",
          "text": [
            "/usr/local/lib/python3.10/dist-packages/sklearn/ensemble/_base.py:156: FutureWarning: `base_estimator` was renamed to `estimator` in version 1.2 and will be removed in 1.4.\n",
            "  warnings.warn(\n",
            "/usr/local/lib/python3.10/dist-packages/sklearn/ensemble/_base.py:156: FutureWarning: `base_estimator` was renamed to `estimator` in version 1.2 and will be removed in 1.4.\n",
            "  warnings.warn(\n"
          ]
        },
        {
          "output_type": "stream",
          "name": "stdout",
          "text": [
            "Round 11, Validation Score: 0.8400\n",
            "Round 12, Validation Score: 0.8400\n"
          ]
        },
        {
          "output_type": "stream",
          "name": "stderr",
          "text": [
            "/usr/local/lib/python3.10/dist-packages/sklearn/ensemble/_base.py:156: FutureWarning: `base_estimator` was renamed to `estimator` in version 1.2 and will be removed in 1.4.\n",
            "  warnings.warn(\n",
            "/usr/local/lib/python3.10/dist-packages/sklearn/ensemble/_base.py:156: FutureWarning: `base_estimator` was renamed to `estimator` in version 1.2 and will be removed in 1.4.\n",
            "  warnings.warn(\n"
          ]
        },
        {
          "output_type": "stream",
          "name": "stdout",
          "text": [
            "Round 13, Validation Score: 0.8350\n",
            "Round 14, Validation Score: 0.8400\n"
          ]
        },
        {
          "output_type": "stream",
          "name": "stderr",
          "text": [
            "/usr/local/lib/python3.10/dist-packages/sklearn/ensemble/_base.py:156: FutureWarning: `base_estimator` was renamed to `estimator` in version 1.2 and will be removed in 1.4.\n",
            "  warnings.warn(\n",
            "/usr/local/lib/python3.10/dist-packages/sklearn/ensemble/_base.py:156: FutureWarning: `base_estimator` was renamed to `estimator` in version 1.2 and will be removed in 1.4.\n",
            "  warnings.warn(\n"
          ]
        },
        {
          "output_type": "stream",
          "name": "stdout",
          "text": [
            "Round 15, Validation Score: 0.8300\n"
          ]
        },
        {
          "output_type": "stream",
          "name": "stderr",
          "text": [
            "/usr/local/lib/python3.10/dist-packages/sklearn/ensemble/_base.py:156: FutureWarning: `base_estimator` was renamed to `estimator` in version 1.2 and will be removed in 1.4.\n",
            "  warnings.warn(\n"
          ]
        },
        {
          "output_type": "stream",
          "name": "stdout",
          "text": [
            "Round 16, Validation Score: 0.8250\n"
          ]
        },
        {
          "output_type": "stream",
          "name": "stderr",
          "text": [
            "/usr/local/lib/python3.10/dist-packages/sklearn/ensemble/_base.py:156: FutureWarning: `base_estimator` was renamed to `estimator` in version 1.2 and will be removed in 1.4.\n",
            "  warnings.warn(\n"
          ]
        },
        {
          "output_type": "stream",
          "name": "stdout",
          "text": [
            "Round 17, Validation Score: 0.8250\n",
            "Round 18, Validation Score: 0.8250\n",
            "Early stopping after 18 rounds.\n",
            "Test Score with Early Stopping: 0.8850\n"
          ]
        },
        {
          "output_type": "stream",
          "name": "stderr",
          "text": [
            "/usr/local/lib/python3.10/dist-packages/sklearn/ensemble/_base.py:156: FutureWarning: `base_estimator` was renamed to `estimator` in version 1.2 and will be removed in 1.4.\n",
            "  warnings.warn(\n"
          ]
        }
      ]
    },
    {
      "cell_type": "markdown",
      "source": [
        "# Scaling AdaBoost to Large Datasets\n",
        "    Implementing Parallelization and Random Sampling"
      ],
      "metadata": {
        "id": "0_cxHFIssSq8"
      }
    },
    {
      "cell_type": "code",
      "source": [
        "from sklearn.ensemble import AdaBoostClassifier\n",
        "from sklearn.tree import DecisionTreeClassifier\n",
        "from sklearn.datasets import make_classification\n",
        "from sklearn.model_selection import train_test_split\n",
        "from sklearn.utils import resample\n",
        "\n",
        "# Create a large synthetic dataset\n",
        "X, y = make_classification(n_samples=100000, n_features=20, random_state=42)\n",
        "\n",
        "# Downsample the dataset to speed up training (for demonstration)\n",
        "X_sample, y_sample = resample(X, y, n_samples=10000, random_state=42)\n",
        "\n",
        "# Base estimator\n",
        "base_estimator = DecisionTreeClassifier(max_depth=1)\n",
        "\n",
        "# AdaBoost with parallelization (n_jobs=-1 uses all processors)\n",
        "ada = AdaBoostClassifier(base_estimator=base_estimator, n_estimators=100, learning_rate=0.1, random_state=42)\n",
        "\n",
        "# Train the model\n",
        "ada.fit(X_sample, y_sample)\n",
        "\n",
        "# Evaluate on a random subset of the test set\n",
        "X_test, y_test = resample(X, y, n_samples=10000, random_state=42)\n",
        "test_score = ada.score(X_test, y_test)\n",
        "print(f\"Test Score on Scaled Dataset: {test_score:.4f}\")\n"
      ],
      "metadata": {
        "colab": {
          "base_uri": "https://localhost:8080/"
        },
        "id": "9T7jXQ-asGve",
        "outputId": "e5b7ee42-1c89-45e8-de55-4f3fd7cce6ee"
      },
      "execution_count": null,
      "outputs": [
        {
          "output_type": "stream",
          "name": "stderr",
          "text": [
            "/usr/local/lib/python3.10/dist-packages/sklearn/ensemble/_base.py:156: FutureWarning: `base_estimator` was renamed to `estimator` in version 1.2 and will be removed in 1.4.\n",
            "  warnings.warn(\n"
          ]
        },
        {
          "output_type": "stream",
          "name": "stdout",
          "text": [
            "Test Score on Scaled Dataset: 0.8666\n"
          ]
        }
      ]
    },
    {
      "cell_type": "markdown",
      "source": [
        "# Performance Evaluation\n",
        "    Using Cross-Validation"
      ],
      "metadata": {
        "id": "LVo5rdWAsbdR"
      }
    },
    {
      "cell_type": "code",
      "source": [
        "from sklearn.model_selection import cross_val_score, StratifiedKFold\n",
        "\n",
        "\n",
        "\n",
        "# Stratified K-Fold cross-validation\n",
        "skf = StratifiedKFold(n_splits=10)\n",
        "\n",
        "# Perform cross-validation\n",
        "cv_scores = cross_val_score(ada, X_sample, y_sample, cv=skf, scoring='accuracy')\n",
        "print(f\"Cross-Validated Accuracy: {cv_scores.mean():.4f}\")\n"
      ],
      "metadata": {
        "colab": {
          "base_uri": "https://localhost:8080/"
        },
        "id": "ZhYTFETxsdbh",
        "outputId": "a78436b6-37c5-407d-cf16-78f11f616afe"
      },
      "execution_count": null,
      "outputs": [
        {
          "output_type": "stream",
          "name": "stderr",
          "text": [
            "/usr/local/lib/python3.10/dist-packages/sklearn/ensemble/_base.py:156: FutureWarning: `base_estimator` was renamed to `estimator` in version 1.2 and will be removed in 1.4.\n",
            "  warnings.warn(\n",
            "/usr/local/lib/python3.10/dist-packages/sklearn/ensemble/_base.py:156: FutureWarning: `base_estimator` was renamed to `estimator` in version 1.2 and will be removed in 1.4.\n",
            "  warnings.warn(\n",
            "/usr/local/lib/python3.10/dist-packages/sklearn/ensemble/_base.py:156: FutureWarning: `base_estimator` was renamed to `estimator` in version 1.2 and will be removed in 1.4.\n",
            "  warnings.warn(\n",
            "/usr/local/lib/python3.10/dist-packages/sklearn/ensemble/_base.py:156: FutureWarning: `base_estimator` was renamed to `estimator` in version 1.2 and will be removed in 1.4.\n",
            "  warnings.warn(\n",
            "/usr/local/lib/python3.10/dist-packages/sklearn/ensemble/_base.py:156: FutureWarning: `base_estimator` was renamed to `estimator` in version 1.2 and will be removed in 1.4.\n",
            "  warnings.warn(\n",
            "/usr/local/lib/python3.10/dist-packages/sklearn/ensemble/_base.py:156: FutureWarning: `base_estimator` was renamed to `estimator` in version 1.2 and will be removed in 1.4.\n",
            "  warnings.warn(\n",
            "/usr/local/lib/python3.10/dist-packages/sklearn/ensemble/_base.py:156: FutureWarning: `base_estimator` was renamed to `estimator` in version 1.2 and will be removed in 1.4.\n",
            "  warnings.warn(\n",
            "/usr/local/lib/python3.10/dist-packages/sklearn/ensemble/_base.py:156: FutureWarning: `base_estimator` was renamed to `estimator` in version 1.2 and will be removed in 1.4.\n",
            "  warnings.warn(\n",
            "/usr/local/lib/python3.10/dist-packages/sklearn/ensemble/_base.py:156: FutureWarning: `base_estimator` was renamed to `estimator` in version 1.2 and will be removed in 1.4.\n",
            "  warnings.warn(\n",
            "/usr/local/lib/python3.10/dist-packages/sklearn/ensemble/_base.py:156: FutureWarning: `base_estimator` was renamed to `estimator` in version 1.2 and will be removed in 1.4.\n",
            "  warnings.warn(\n"
          ]
        },
        {
          "output_type": "stream",
          "name": "stdout",
          "text": [
            "Cross-Validated Accuracy: 0.8645\n"
          ]
        }
      ]
    },
    {
      "cell_type": "markdown",
      "source": [
        "# Metrics for AdaBoost\n",
        "    Evaluating using Accuracy, F1-Score, and ROC-AUC\n"
      ],
      "metadata": {
        "id": "aS2BBya5stdF"
      }
    },
    {
      "cell_type": "code",
      "source": [
        "from sklearn.metrics import accuracy_score, f1_score, roc_auc_score, classification_report, confusion_matrix, roc_curve\n",
        "import matplotlib.pyplot as plt\n",
        "\n",
        "# Predictions on the test set\n",
        "y_pred = ada.predict(X_test)\n",
        "\n",
        "# Accuracy\n",
        "accuracy = accuracy_score(y_test, y_pred)\n",
        "print(f\"Accuracy: {accuracy:.4f}\")\n",
        "\n",
        "# F1 Score\n",
        "f1 = f1_score(y_test, y_pred)\n",
        "print(f\"F1 Score: {f1:.4f}\")\n",
        "\n",
        "# ROC-AUC\n",
        "y_prob = ada.predict_proba(X_test)[:, 1]\n",
        "roc_auc = roc_auc_score(y_test, y_prob)\n",
        "print(f\"ROC-AUC: {roc_auc:.4f}\")\n",
        "\n",
        "# Confusion Matrix and Classification Report\n",
        "print(\"Confusion Matrix:\")\n",
        "print(confusion_matrix(y_test, y_pred))\n",
        "\n",
        "print(\"\\nClassification Report:\")\n",
        "print(classification_report(y_test, y_pred))\n",
        "\n",
        "# ROC Curve\n",
        "fpr, tpr, _ = roc_curve(y_test, y_prob)\n",
        "plt.plot(fpr, tpr, label=f\"ROC Curve (AUC = {roc_auc:.4f})\")\n",
        "plt.plot([0, 1], [0, 1], linestyle='--', color='gray')\n",
        "plt.xlabel('False Positive Rate')\n",
        "plt.ylabel('True Positive Rate')\n",
        "plt.title('Receiver Operating Characteristic (ROC) Curve')\n",
        "plt.legend()\n",
        "plt.show()\n"
      ],
      "metadata": {
        "colab": {
          "base_uri": "https://localhost:8080/",
          "height": 767
        },
        "id": "icuVRO_isfIg",
        "outputId": "d15d720b-ea28-452b-a606-6fcdf5546e77"
      },
      "execution_count": null,
      "outputs": [
        {
          "output_type": "stream",
          "name": "stdout",
          "text": [
            "Accuracy: 0.8666\n",
            "F1 Score: 0.8678\n",
            "ROC-AUC: 0.9455\n",
            "Confusion Matrix:\n",
            "[[4289  667]\n",
            " [ 667 4377]]\n",
            "\n",
            "Classification Report:\n",
            "              precision    recall  f1-score   support\n",
            "\n",
            "           0       0.87      0.87      0.87      4956\n",
            "           1       0.87      0.87      0.87      5044\n",
            "\n",
            "    accuracy                           0.87     10000\n",
            "   macro avg       0.87      0.87      0.87     10000\n",
            "weighted avg       0.87      0.87      0.87     10000\n",
            "\n"
          ]
        },
        {
          "output_type": "display_data",
          "data": {
            "text/plain": [
              "<Figure size 640x480 with 1 Axes>"
            ],
            "image/png": "[encoded data removed]"
          },
          "metadata": {}
        }
      ]
    },
    {
      "cell_type": "code",
      "source": [],
      "metadata": {
        "id": "hNySMUwqsyu6"
      },
      "execution_count": null,
      "outputs": []
    }
  ]
}