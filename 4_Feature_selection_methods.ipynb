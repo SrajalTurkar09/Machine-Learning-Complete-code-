{
  "nbformat": 4,
  "nbformat_minor": 0,
  "metadata": {
    "colab": {
      "provenance": [],
      "gpuType": "T4"
    },
    "kernelspec": {
      "name": "python3",
      "display_name": "Python 3"
    },
    "language_info": {
      "name": "python"
    }
  },
  "cells": [
    {
      "cell_type": "code",
      "execution_count": 1,
      "metadata": {
        "id": "yCyfUsGCyDpr"
      },
      "outputs": [],
      "source": [
        "# Feature selection methods\n",
        "\n",
        "# 1.Filter methods\n",
        "# 2.Wrapper methods\n",
        "# 3.Embedded\n"
      ]
    },
    {
      "cell_type": "code",
      "source": [
        "# Filter methods\n",
        "# The filter methods are used to select the best features from the dataset.\n",
        "# Techniques used:\n",
        "# 1. Information Gain\n",
        "# 2. Mean Absolute Defficiency\n",
        "# 3. chi-squared\n",
        "# 4. fisher score\n",
        "# 5. correlation coefficient\n",
        "# 6. variance threshold\n",
        "# 7. Dispersion ratio\n",
        "# 8. mutual dependence\n",
        "# 9. Relief"
      ],
      "metadata": {
        "id": "AjXaSUYsyt2b"
      },
      "execution_count": 2,
      "outputs": []
    },
    {
      "cell_type": "code",
      "source": [
        "# Information Gain\n",
        "\n",
        "# The information gain is used to select the best features from the dataset.\n",
        "# The information gain is calculated as follows:\n",
        "\n",
        "# make an dataset with x and y with values 0,1 and yes and no\n",
        "\n",
        "\n",
        "# Information Gain\n",
        "\n",
        "# The information gain is used to select the best features from the dataset.\n",
        "# The information gain is calculated as follows:\n",
        "\n",
        "# make an dataset with x and y with values 0,1 and yes and no\n",
        "\n",
        "import pandas as pd\n",
        "x = [1,0,0,1,1]\n",
        "y = ['yes','no','no','yes','yes']\n",
        "df = pd.DataFrame({'x':x,'y':y})\n",
        "# df\n",
        "\n",
        "\n",
        "\n",
        "# create information gain class from scratch\n",
        "from math import log2\n",
        "\n",
        "def entropy(data):\n",
        "    \"\"\"Calculate the entropy of a dataset.\"\"\"\n",
        "    counts = {}\n",
        "    for item in data:\n",
        "        counts[item] = counts.get(item, 0) + 1\n",
        "    total = len(data)\n",
        "    entropy_value = 0\n",
        "    for count in counts.values():\n",
        "        p = count / total\n",
        "        entropy_value -= p * log2(p) if p > 0 else 0  # Handle cases where p is 0\n",
        "    return entropy_value\n",
        "\n",
        "def information_gain(x,y):\n",
        "    # calculate entropy of y\n",
        "    entropy_y = entropy(y)\n",
        "    # calculate entropy of x\n",
        "    entropy_x = entropy(x)\n",
        "    # calculate information gain\n",
        "    information_gain = entropy_y - entropy_x\n",
        "    return information_gain\n",
        "\n",
        "\n",
        "information_gain(df['x'],df['y'])\n"
      ],
      "metadata": {
        "colab": {
          "base_uri": "https://localhost:8080/"
        },
        "id": "K4kIRqD1zVFT",
        "outputId": "db510c1e-86d8-483e-f1fe-d7018972e152"
      },
      "execution_count": 10,
      "outputs": [
        {
          "output_type": "execute_result",
          "data": {
            "text/plain": [
              "0.0"
            ]
          },
          "metadata": {},
          "execution_count": 10
        }
      ]
    },
    {
      "cell_type": "code",
      "source": [
        "# Chi-Squared\n",
        "\n",
        "# data set\n",
        "\n",
        "gender = ['male','female','male','female','male','female','male','female','male','female']\n",
        "a = [20,30,40,50,60,70,80,90,100,110]\n",
        "b = [10,20,30,40,50,60,70,80,90,100]\n",
        "total = [30,50,70,90,110,130,150,170,190,210]\n",
        "df = pd.DataFrame({'gender':gender,'a':a,'b':b,'total':total})\n",
        "# df\n",
        "\n",
        "def chi_squared(a,b,total):\n",
        "    chi_squared_values_a = [] # store chi-squared values for a\n",
        "    chi_squared_values_b = [] # store chi-squared values for b\n",
        "    df_values_a = [] # store degree of freedom values for a\n",
        "    df_values_b = [] # store degree of freedom values for b\n",
        "    # calculate expected frequency\n",
        "    for i in range(len(a)):\n",
        "        expected = total[i] * (a[i] + b[i]) / sum(total)\n",
        "        expected = round(expected)\n",
        "        # calculate chi-squared\n",
        "        chi_squared_a = (a[i] - expected)**2 / expected\n",
        "        chi_squared_b = (b[i] - expected)**2 / expected\n",
        "        chi_squared_values_a.append(round(chi_squared_a, 2))\n",
        "        chi_squared_values_b.append(round(chi_squared_b, 2))\n",
        "      # degree of freedom\n",
        "        df_a = (len(a)-1)*(len(b)-1)\n",
        "        df_b = (len(a)-1)*(len(b)-1)\n",
        "        df_values_a.append(round(df_a))\n",
        "        df_values_b.append(round(df_b))\n",
        "\n",
        "    # compare the critical value with the chi-squared\n",
        "    result_a = ['Yes' if val < 3.84 else 'No' for val in chi_squared_values_a]\n",
        "    result_b = ['Yes' if val < 3.84 else 'No' for val in chi_squared_values_b]\n",
        "    return result_a, result_b\n",
        "\n",
        "\n",
        "chi_squared(df['a'],df['b'],df['total'])"
      ],
      "metadata": {
        "colab": {
          "base_uri": "https://localhost:8080/"
        },
        "id": "2MgJUsRXz0_y",
        "outputId": "ffd4bffb-ef71-42e9-cd61-0d91ffaa7dc8"
      },
      "execution_count": 15,
      "outputs": [
        {
          "output_type": "execute_result",
          "data": {
            "text/plain": [
              "(['No', 'No', 'No', 'No', 'No', 'No', 'No', 'No', 'No', 'No'],\n",
              " ['No', 'No', 'No', 'No', 'No', 'No', 'No', 'No', 'No', 'No'])"
            ]
          },
          "metadata": {},
          "execution_count": 15
        }
      ]
    },
    {
      "cell_type": "code",
      "source": [
        "# Fisher Score\n",
        "import numpy as np\n",
        "import pandas as pd\n",
        "import datetime\n",
        "\n",
        "# Set seed for reproducibility\n",
        "np.random.seed(42)\n",
        "\n",
        "# Number of trading days\n",
        "n_days = 252  # Typically 252 trading days in a year\n",
        "\n",
        "# Date range for the dataset\n",
        "start_date = datetime.datetime(2023, 1, 1)\n",
        "date_range = [start_date + datetime.timedelta(days=i) for i in range(n_days)]\n",
        "\n",
        "# Generate synthetic stock prices\n",
        "open_price = np.cumsum(np.random.normal(0, 1, n_days)) + 100  # Start around 100\n",
        "high_price = open_price + np.random.normal(0.5, 0.2, n_days)\n",
        "low_price = open_price - np.random.normal(0.5, 0.2, n_days)\n",
        "close_price = open_price + np.random.normal(0, 1, n_days)\n",
        "\n",
        "# Ensure high is always higher than low and adjust close price\n",
        "for i in range(n_days):\n",
        "    high_price[i] = max(high_price[i], open_price[i], close_price[i])\n",
        "    low_price[i] = min(low_price[i], open_price[i], close_price[i])\n",
        "    close_price[i] = max(min(close_price[i], high_price[i]), low_price[i])\n",
        "\n",
        "# Generate synthetic trading volumes\n",
        "volume = np.random.normal(1000000, 200000, n_days).astype(int)\n",
        "\n",
        "# Calculate simple moving averages\n",
        "sma_10 = pd.Series(close_price).rolling(window=10).mean().fillna(method='bfill')\n",
        "sma_30 = pd.Series(close_price).rolling(window=30).mean().fillna(method='bfill')\n",
        "\n",
        "# Create DataFrame\n",
        "data = pd.DataFrame({\n",
        "    'Date': date_range,\n",
        "    'Open': open_price,\n",
        "    'High': high_price,\n",
        "    'Low': low_price,\n",
        "    'Close': close_price,\n",
        "    'Volume': volume,\n",
        "    'SMA_10': sma_10,\n",
        "    'SMA_30': sma_30\n",
        "})\n",
        "\n",
        "# Save the data to a CSV file\n",
        "# data.to_csv('synthetic_stock_market_data.csv', index=False)\n",
        "\n",
        "# Display the first few rows of the data\n",
        "data.head()\n",
        "\n",
        "\n",
        "def fisher_score(data):\n",
        "  # calculate factorial\n",
        "    for i in range(len(data)):\n",
        "        factorial = 1\n",
        "        for j in range(1, data[i] + 1):\n",
        "            factorial *= j\n",
        "        data[i] = factorial\n",
        "  # compute probability\n",
        "    for i in range(len(data)):\n",
        "       probability = data[i] / (data[i] + 1)\n",
        "       data[i] = probability\n",
        "  # calculate fisher score\n",
        "    fisher_score = 0\n",
        "    for i in range(len(data)):\n",
        "        fisher_score += data[i] * np.log2(data[i])\n",
        "    return fisher_score\n",
        "\n",
        "fisher_score(data['Volume'])"
      ],
      "metadata": {
        "id": "v24t2h-O15sV"
      },
      "execution_count": null,
      "outputs": []
    },
    {
      "cell_type": "code",
      "source": [],
      "metadata": {
        "id": "-dRNL6PF4sFi"
      },
      "execution_count": null,
      "outputs": []
    }
  ]
}